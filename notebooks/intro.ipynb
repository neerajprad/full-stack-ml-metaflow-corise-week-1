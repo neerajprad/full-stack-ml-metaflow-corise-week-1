{
 "cells": [
  {
   "attachments": {},
   "cell_type": "markdown",
   "metadata": {},
   "source": [
    "# Welcome to Full-Stack Machine Learning with Metaflow!\n",
    "We are so excited you chose to learn about production ML workflows with us."
   ]
  },
  {
   "attachments": {},
   "cell_type": "markdown",
   "metadata": {},
   "source": [
    "\n",
    "The content in [this course](https://corise.com/course/full-stack-machine-learning-with-metaflow) will be distributed here, in your Metaflow sandbox!\n",
    "To learn more about using your sandbox, please watch this [video](https://www.youtube.com/watch?v=jLHTiShGZaI).\n",
    "If you have any issues with your environment or accessing content, please let us know on Slack. \n",
    "\n",
    "## Week 1 Setup\n",
    "To get started, you will want to know about this guide on [Full Stack Metaflow Logistics: Accessing Content and Submitting Assignments](https://docs.google.com/document/d/1_TY6DEeGI7rp6KJ2t1HfmKbz3oa-FWCBKA7BJWHM6yA/edit?usp=sharing).\n",
    "\n",
    "You can browse the document for now, and use it as a reference throughout this course.\n",
    "The main thing you need to get started is the [Week 1 Set Up](https://docs.google.com/document/d/1_TY6DEeGI7rp6KJ2t1HfmKbz3oa-FWCBKA7BJWHM6yA/edit#heading=h.pegst8u66fl8) which asks you to do these things:\n",
    "\n",
    "### 1. Go to the GitHub account you will use for this course, and make an empty repository called `full-stack-ml-metaflow-corise-week-1`.\n",
    "### 2. Follow the instructions in the next cell to learn how to a) activate your notebook environments in the sandbox, and b) run the setup script."
   ]
  },
  {
   "attachments": {},
   "cell_type": "markdown",
   "metadata": {},
   "source": [
    "#### Activate your notebook environments in the sandbox\n",
    "Click \"Select Kernel\", and VSCode should suggest the `full-stack-metaflow-corise` environment in a dropdown.\n",
    "\n",
    "To run code cells you want to see `full-stack-metaflow-corise` on the top right of your notebooks:\n",
    "<br>\n",
    "<br>\n",
    "<img src=\"./images/step-1-env.png\" width=\"500px\"> \n",
    "\n",
    "VSCode may take you on a brief journey to activate this environment the first time you open a notebook in your workspace:\n",
    "<br>\n",
    "<br>\n",
    "<img src=\"./images/step-2-env.png\" width=\"500px\"> \n",
    "\n",
    "Ultimately you want to click `full-stack-metaflow-corise`, which this image shows VSCode recommending:\n",
    "<br>\n",
    "<br>\n",
    "<img src=\"./images/step-3-env.png\" width=\"500px\"> \n"
   ]
  },
  {
   "attachments": {},
   "cell_type": "markdown",
   "metadata": {},
   "source": [
    "#### Run the setup script to connect to your GitHub account"
   ]
  },
  {
   "cell_type": "code",
   "execution_count": 1,
   "metadata": {},
   "outputs": [],
   "source": [
    "# Assign values for these variables and then click the arrow to the left or hit shift+enter. \n",
    "YOUR_NAME = \"Neeraj Pradhan\"\n",
    "YOUR_EMAIL = \"prad.neeraj@gmail.com\"\n",
    "YOUR_GITHUB_ACCOUNT_NAME = \"neerajprad\""
   ]
  },
  {
   "cell_type": "code",
   "execution_count": 2,
   "metadata": {},
   "outputs": [
    {
     "name": "stdout",
     "output_type": "stream",
     "text": [
      "\n",
      "Copy and paste this command in the VSCode terminal and run it! ⏭️\n",
      "    python /home/workspace/scripts/corise/setup_week_1.py \"Neeraj Pradhan\" \"prad.neeraj@gmail.com\" \"neerajprad\"\n",
      "\n",
      "If you have a private repo, follow our guide on how to create your personal access token, and modify your command to: \n",
      "    python /home/workspace/scripts/corise/setup_week_1.py \"Neeraj Pradhan\" \"prad.neeraj@gmail.com\" \"neerajprad\" --gh-pat <YOUR PERSONAL ACCESS TOKEN>\n",
      "    \n",
      "Find the personal access token guide at: https://app.arcade.software/share/NWRArWfPc3iPepTjd3dP\n",
      "\n",
      "Congrats on running your first code in the sandbox! 🎉\n"
     ]
    }
   ],
   "source": [
    "# If you filled out your information in the last cell and ran it, you can run this cell to get your command.\n",
    "week_1_setup_cmd = \" \".join([\"python\", \"/home/workspace/scripts/corise/setup_week_1.py\", f'\"{YOUR_NAME}\"', f'\"{YOUR_EMAIL}\"', f'\"{YOUR_GITHUB_ACCOUNT_NAME}\"'])\n",
    "print(f\"\"\"\n",
    "Copy and paste this command in the VSCode terminal and run it! ⏭️\n",
    "    {week_1_setup_cmd}\n",
    "\n",
    "If you have a private repo, follow our guide on how to create your personal access token, and modify your command to: \n",
    "    {week_1_setup_cmd} --gh-pat <YOUR PERSONAL ACCESS TOKEN>\n",
    "    \n",
    "Find the personal access token guide at: https://app.arcade.software/share/NWRArWfPc3iPepTjd3dP\n",
    "\n",
    "Congrats on running your first code in the sandbox! 🎉\"\"\")"
   ]
  },
  {
   "attachments": {},
   "cell_type": "markdown",
   "metadata": {},
   "source": [
    "If you get stuck, make sure you have checked out the week 1 setup [video](https://www.youtube.com/watch?v=RJGuTNfb7M4). \n",
    "If you can't get things working, let us know on Slack.\n",
    "\n",
    "## Navigating in your sandbox\n",
    "You can navigate through the content using the sections on the left-hand-side activity bar. \n",
    "Ville and Hugo will guide your through these sections in lecture.\n",
    "The final section contains a prompt and template for your week 1 project. Have fun!"
   ]
  }
 ],
 "metadata": {
  "kernelspec": {
   "display_name": "Full Stack ML Corise",
   "language": "python",
   "name": "full-stack-metaflow-corise"
  },
  "language_info": {
   "codemirror_mode": {
    "name": "ipython",
    "version": 3
   },
   "file_extension": ".py",
   "mimetype": "text/x-python",
   "name": "python",
   "nbconvert_exporter": "python",
   "pygments_lexer": "ipython3",
   "version": "3.10.8"
  },
  "orig_nbformat": 4
 },
 "nbformat": 4,
 "nbformat_minor": 2
}
